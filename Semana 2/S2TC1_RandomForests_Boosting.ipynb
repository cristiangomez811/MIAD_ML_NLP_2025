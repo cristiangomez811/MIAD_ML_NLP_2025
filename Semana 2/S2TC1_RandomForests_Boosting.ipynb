{
 "cells": [
  {
   "cell_type": "markdown",
   "metadata": {},
   "source": [
    "![image info](https://raw.githubusercontent.com/albahnsen/MIAD_ML_and_NLP/main/images/banner_1.png)"
   ]
  },
  {
   "cell_type": "markdown",
   "metadata": {},
   "source": [
    "# Taller: Construcción e implementación de modelos Bagging, Random Forest y XGBoost\n",
    "\n",
    "En este taller podrán poner en práctica sus conocimientos sobre la construcción e implementación de modelos de Bagging, Random Forest y XGBoost. El taller está constituido por 8 puntos, en los cuales deberan seguir las intrucciones de cada numeral para su desarrollo."
   ]
  },
  {
   "cell_type": "markdown",
   "metadata": {},
   "source": [
    "## Datos predicción precio de automóviles\n",
    "\n",
    "En este taller se usará el conjunto de datos de Car Listings de Kaggle donde cada observación representa el precio de un automóvil teniendo en cuenta distintas variables como año, marca, modelo, entre otras. El objetivo es predecir el precio del automóvil. Para más detalles puede visitar el siguiente enlace: [datos](https://www.kaggle.com/jpayne/852k-used-car-listings)."
   ]
  },
  {
   "cell_type": "code",
   "execution_count": 1,
   "metadata": {},
   "outputs": [],
   "source": [
    "import warnings\n",
    "warnings.filterwarnings('ignore')"
   ]
  },
  {
   "cell_type": "code",
   "execution_count": 17,
   "metadata": {},
   "outputs": [],
   "source": [
    "# Importación de librerías\n",
    "%matplotlib inline\n",
    "from sklearn.metrics import mean_squared_error, mean_absolute_error, r2_score\n",
    "from sklearn.ensemble import RandomForestRegressor\n",
    "from sklearn.model_selection import GridSearchCV\n",
    "from sklearn.tree import DecisionTreeRegressor\n",
    "from sklearn.ensemble import BaggingRegressor\n",
    "from xgboost import XGBRegressor\n",
    "import matplotlib.pyplot as plt\n",
    "import pandas as pd\n",
    "import pandas as pd\n",
    "import numpy as np\n",
    "import random\n",
    "from sklearn.utils import resample"
   ]
  },
  {
   "cell_type": "code",
   "execution_count": 3,
   "metadata": {},
   "outputs": [
    {
     "data": {
      "text/html": [
       "<div>\n",
       "<style scoped>\n",
       "    .dataframe tbody tr th:only-of-type {\n",
       "        vertical-align: middle;\n",
       "    }\n",
       "\n",
       "    .dataframe tbody tr th {\n",
       "        vertical-align: top;\n",
       "    }\n",
       "\n",
       "    .dataframe thead th {\n",
       "        text-align: right;\n",
       "    }\n",
       "</style>\n",
       "<table border=\"1\" class=\"dataframe\">\n",
       "  <thead>\n",
       "    <tr style=\"text-align: right;\">\n",
       "      <th></th>\n",
       "      <th>Price</th>\n",
       "      <th>Year</th>\n",
       "      <th>Mileage</th>\n",
       "      <th>M_Camry</th>\n",
       "      <th>M_Camry4dr</th>\n",
       "      <th>M_CamryBase</th>\n",
       "      <th>M_CamryL</th>\n",
       "      <th>M_CamryLE</th>\n",
       "      <th>M_CamrySE</th>\n",
       "      <th>M_CamryXLE</th>\n",
       "    </tr>\n",
       "  </thead>\n",
       "  <tbody>\n",
       "    <tr>\n",
       "      <th>7</th>\n",
       "      <td>21995</td>\n",
       "      <td>2014</td>\n",
       "      <td>6480</td>\n",
       "      <td>False</td>\n",
       "      <td>False</td>\n",
       "      <td>False</td>\n",
       "      <td>True</td>\n",
       "      <td>False</td>\n",
       "      <td>False</td>\n",
       "      <td>False</td>\n",
       "    </tr>\n",
       "    <tr>\n",
       "      <th>11</th>\n",
       "      <td>13995</td>\n",
       "      <td>2014</td>\n",
       "      <td>39972</td>\n",
       "      <td>False</td>\n",
       "      <td>False</td>\n",
       "      <td>False</td>\n",
       "      <td>False</td>\n",
       "      <td>True</td>\n",
       "      <td>False</td>\n",
       "      <td>False</td>\n",
       "    </tr>\n",
       "    <tr>\n",
       "      <th>167</th>\n",
       "      <td>17941</td>\n",
       "      <td>2016</td>\n",
       "      <td>18989</td>\n",
       "      <td>False</td>\n",
       "      <td>False</td>\n",
       "      <td>False</td>\n",
       "      <td>False</td>\n",
       "      <td>False</td>\n",
       "      <td>True</td>\n",
       "      <td>False</td>\n",
       "    </tr>\n",
       "    <tr>\n",
       "      <th>225</th>\n",
       "      <td>12493</td>\n",
       "      <td>2014</td>\n",
       "      <td>51330</td>\n",
       "      <td>False</td>\n",
       "      <td>False</td>\n",
       "      <td>False</td>\n",
       "      <td>True</td>\n",
       "      <td>False</td>\n",
       "      <td>False</td>\n",
       "      <td>False</td>\n",
       "    </tr>\n",
       "    <tr>\n",
       "      <th>270</th>\n",
       "      <td>7994</td>\n",
       "      <td>2007</td>\n",
       "      <td>116065</td>\n",
       "      <td>False</td>\n",
       "      <td>True</td>\n",
       "      <td>False</td>\n",
       "      <td>False</td>\n",
       "      <td>False</td>\n",
       "      <td>False</td>\n",
       "      <td>False</td>\n",
       "    </tr>\n",
       "  </tbody>\n",
       "</table>\n",
       "</div>"
      ],
      "text/plain": [
       "     Price  Year  Mileage  M_Camry  M_Camry4dr  M_CamryBase  M_CamryL  \\\n",
       "7    21995  2014     6480    False       False        False      True   \n",
       "11   13995  2014    39972    False       False        False     False   \n",
       "167  17941  2016    18989    False       False        False     False   \n",
       "225  12493  2014    51330    False       False        False      True   \n",
       "270   7994  2007   116065    False        True        False     False   \n",
       "\n",
       "     M_CamryLE  M_CamrySE  M_CamryXLE  \n",
       "7        False      False       False  \n",
       "11        True      False       False  \n",
       "167      False       True       False  \n",
       "225      False      False       False  \n",
       "270      False      False       False  "
      ]
     },
     "execution_count": 3,
     "metadata": {},
     "output_type": "execute_result"
    }
   ],
   "source": [
    "# Lectura de la información de archivo .csv\n",
    "data = pd.read_csv('https://raw.githubusercontent.com/albahnsen/MIAD_ML_and_NLP/main/datasets/dataTrain_carListings.zip')\n",
    "\n",
    "# Preprocesamiento de datos para el taller\n",
    "data = data.loc[data['Model'].str.contains('Camry')].drop(['Make', 'State'], axis=1)\n",
    "data = data.join(pd.get_dummies(data['Model'], prefix='M'))\n",
    "data = data.drop(['Model'], axis=1)\n",
    "\n",
    "# Visualización dataset\n",
    "data.head()"
   ]
  },
  {
   "cell_type": "code",
   "execution_count": 4,
   "metadata": {},
   "outputs": [],
   "source": [
    "# Separación de variables predictoras (X) y variable de interés (y)\n",
    "y = data['Price']\n",
    "X = data.drop(['Price'], axis=1)"
   ]
  },
  {
   "cell_type": "code",
   "execution_count": 5,
   "metadata": {},
   "outputs": [],
   "source": [
    "# Separación de datos en set de entrenamiento y test\n",
    "from sklearn.model_selection import train_test_split\n",
    "X_train, X_test, y_train, y_test = train_test_split(X, y, test_size=0.33, random_state=42)"
   ]
  },
  {
   "cell_type": "markdown",
   "metadata": {},
   "source": [
    "### Punto 1 - Árbol de decisión manual\n",
    "\n",
    "En la celda 1 creen un árbol de decisión **manualmente**  que considere los set de entrenamiento y test definidos anteriormente y presenten el RMSE y MAE del modelo en el set de test."
   ]
  },
  {
   "cell_type": "code",
   "execution_count": 6,
   "metadata": {},
   "outputs": [],
   "source": [
    "# Celda 1\n",
    "# Definición de parámetros y criterios de parada\n",
    "max_depth = None\n",
    "num_pct = 10\n",
    "max_features = None\n",
    "min_gain=0.001\n"
   ]
  },
  {
   "cell_type": "code",
   "execution_count": 7,
   "metadata": {},
   "outputs": [
    {
     "name": "stdout",
     "output_type": "stream",
     "text": [
      "Mileage\n"
     ]
    },
    {
     "data": {
      "text/plain": [
       "array([5.00000e+00, 1.60410e+04, 2.34520e+04, 3.00500e+04, 3.57230e+04,\n",
       "       4.15900e+04, 4.80910e+04, 6.13250e+04, 8.18550e+04, 1.07532e+05])"
      ]
     },
     "execution_count": 7,
     "metadata": {},
     "output_type": "execute_result"
    }
   ],
   "source": [
    "# Impresión variable a usar (Mileage)\n",
    "j = 1\n",
    "print(X_train.columns[j])\n",
    "# División de la variable Hits en num_ptc puntos (parámetro definido anteriormente) para obtener posibles puntos de corte\n",
    "splits = np.percentile(X_train.iloc[:, j], np.arange(0, 100, 100.0 / num_pct).tolist())\n",
    "splits = np.unique(splits)\n",
    "splits"
   ]
  },
  {
   "cell_type": "code",
   "execution_count": 8,
   "metadata": {},
   "outputs": [],
   "source": [
    "# División de las observaciones usando el punto de corte en la posición 5 de la lista de splits\n",
    "k=5\n",
    "filter_l = X_train.iloc[:, j] < splits[k]\n",
    "\n",
    "y_l = y_train.loc[filter_l]\n",
    "y_r = y_train.loc[~filter_l]"
   ]
  },
  {
   "cell_type": "code",
   "execution_count": 9,
   "metadata": {},
   "outputs": [
    {
     "name": "stdout",
     "output_type": "stream",
     "text": [
      "MSE Izquierdo 5989810.045397312\n",
      "MSE Derecho 11812795.605338946\n"
     ]
    }
   ],
   "source": [
    "#Calcula el error cuadrático medio de un grupo.\n",
    "def mse(y):\n",
    "    if len(y) == 0:\n",
    "        return 0\n",
    "    return np.mean((y - np.mean(y)) ** 2)\n",
    "\n",
    "# Gini index de las observaciones que tienen un valor menor al punto de corte seleccionado    \n",
    "mse_l = mse(y_l)\n",
    "mse_r = mse(y_r)\n",
    "print(f\"MSE Izquierdo {mse_l}\")\n",
    "print(f\"MSE Derecho {mse_r}\")"
   ]
  },
  {
   "cell_type": "code",
   "execution_count": 10,
   "metadata": {},
   "outputs": [],
   "source": [
    "# Evalúa un split en una columna y devuelve la ganancia en MSE (reducción de error total).\n",
    "def mse_split_gain(x_column, y, threshold):\n",
    "    left_mask = x_column <= threshold\n",
    "    right_mask = x_column > threshold\n",
    "\n",
    "    y_left = y[left_mask]\n",
    "    y_right = y[right_mask]\n",
    "\n",
    "    n = len(y)\n",
    "    n_left = len(y_left)\n",
    "    n_right = len(y_right)\n",
    "\n",
    "    if n_left == 0 or n_right == 0:\n",
    "        return 0  # No tiene sentido dividir si un lado queda vacío\n",
    "\n",
    "    mse_before = mse(y)\n",
    "    mse_after = (n_left * mse(y_left) + n_right * mse(y_right)) / n\n",
    "\n",
    "    gain = mse_before - mse_after\n",
    "    return gain"
   ]
  },
  {
   "cell_type": "code",
   "execution_count": 11,
   "metadata": {},
   "outputs": [
    {
     "name": "stdout",
     "output_type": "stream",
     "text": [
      "Mejor corte: atributo #0 (Year), Corte = 2011.00, ganancia = 8704894.88\n"
     ]
    },
    {
     "data": {
      "text/plain": [
       "(14538.403716055265, 8240.23125564589, 15679.326130992573)"
      ]
     },
     "execution_count": 11,
     "metadata": {},
     "output_type": "execute_result"
    }
   ],
   "source": [
    "# Definición de la función best_split para calcular cuál es la mejor variable y punto de cortepara hacer la bifurcación del árbol\n",
    "def best_split(X, y, num_pct=10):\n",
    "    features = range(X.shape[1])\n",
    "    best_split_result = [0, 0, 0]  # [feature_index, threshold, gain]\n",
    "\n",
    "    for j in features:\n",
    "        if not np.issubdtype(X.iloc[:, j].dtype, np.number):\n",
    "            continue\n",
    "        if X.iloc[:, j].nunique() <= 1:\n",
    "            continue\n",
    "\n",
    "        percentiles = np.percentile(X.iloc[:, j], np.linspace(0, 100, num_pct + 2)[1:-1])\n",
    "        percentiles = np.unique(percentiles)\n",
    "\n",
    "        for split in percentiles:\n",
    "            gain = mse_split_gain(X.iloc[:, j], y, split)\n",
    "\n",
    "            if gain > best_split_result[2]:\n",
    "                best_split_result = [j, split, gain]\n",
    "\n",
    "    return best_split_result\n",
    "\n",
    "j, split, gain = best_split(X_train, y_train, 5)\n",
    "print(f\"Mejor corte: atributo #{j} ({X_train.columns[j]}), Corte = {split:.2f}, ganancia = {gain:.2f}\")\n",
    "\n",
    "# División de las observaciones usando la mejor variable 'j' y su punto de corte 'split'\n",
    "filter_l = X_train.iloc[:, j] < split\n",
    "\n",
    "y_l = y_train.loc[filter_l]\n",
    "y_r = y_train.loc[~filter_l]\n",
    "\n",
    "y.shape[0], y_l.shape[0], y_r.shape[0]\n",
    "y.mean(), y_l.mean(), y_r.mean()"
   ]
  },
  {
   "cell_type": "code",
   "execution_count": 12,
   "metadata": {},
   "outputs": [
    {
     "data": {
      "text/plain": [
       "{'y_pred': 14508.073389276064,\n",
       " 'level': 0,\n",
       " 'split': [0, 2012.0],\n",
       " 'n_samples': 7031,\n",
       " 'gain': 8790046.173046965,\n",
       " 'sl': {'y_pred': 8737.28071379547,\n",
       "  'level': 1,\n",
       "  'split': [1, 97798.72727272728],\n",
       "  'n_samples': 1457,\n",
       "  'gain': 1109280.4742891928,\n",
       "  'sl': {'y_pred': 9891.465256797583,\n",
       "   'level': 2,\n",
       "   'split': [0, 2007.0],\n",
       "   'n_samples': 662,\n",
       "   'gain': 902634.9592679311,\n",
       "   'sl': {'y_pred': 7913.979166666667,\n",
       "    'level': 3,\n",
       "    'split': -1,\n",
       "    'n_samples': 96,\n",
       "    'gain': 269642.8787168269},\n",
       "   'sr': {'y_pred': 10226.86925795053,\n",
       "    'level': 3,\n",
       "    'split': -1,\n",
       "    'n_samples': 566,\n",
       "    'gain': 491283.91599751124}},\n",
       "  'sr': {'y_pred': 7776.186163522013,\n",
       "   'level': 2,\n",
       "   'split': [0, 2009.0],\n",
       "   'n_samples': 795,\n",
       "   'gain': 619143.7020776963,\n",
       "   'sl': {'y_pred': 7099.322869955157,\n",
       "    'level': 3,\n",
       "    'split': -1,\n",
       "    'n_samples': 446,\n",
       "    'gain': 178046.6928835672},\n",
       "   'sr': {'y_pred': 8641.174785100287,\n",
       "    'level': 3,\n",
       "    'split': -1,\n",
       "    'n_samples': 349,\n",
       "    'gain': 593918.5225114992}}},\n",
       " 'sr': {'y_pred': 16016.51345532831,\n",
       "  'level': 1,\n",
       "  'split': [1, 37919.18181818181],\n",
       "  'n_samples': 5574,\n",
       "  'gain': 2126613.690784448,\n",
       "  'sl': {'y_pred': 17347.92039473684,\n",
       "   'level': 2,\n",
       "   'split': [0, 2016.0],\n",
       "   'n_samples': 3040,\n",
       "   'gain': 1346802.7598785432,\n",
       "   'sl': {'y_pred': 16381.826490066225,\n",
       "    'level': 3,\n",
       "    'split': -1,\n",
       "    'n_samples': 1510,\n",
       "    'gain': 469190.9945450914},\n",
       "   'sr': {'y_pred': 18301.385620915033,\n",
       "    'level': 3,\n",
       "    'split': -1,\n",
       "    'n_samples': 1530,\n",
       "    'gain': 1056374.1560750622}},\n",
       "  'sr': {'y_pred': 14419.2454617206,\n",
       "   'level': 2,\n",
       "   'split': [1, 65705.36363636363],\n",
       "   'n_samples': 2534,\n",
       "   'gain': 1410904.457044362,\n",
       "   'sl': {'y_pred': 15146.564839934888,\n",
       "    'level': 3,\n",
       "    'split': -1,\n",
       "    'n_samples': 1843,\n",
       "    'gain': 488327.4300328214},\n",
       "   'sr': {'y_pred': 12479.376266280753,\n",
       "    'level': 3,\n",
       "    'split': -1,\n",
       "    'n_samples': 691,\n",
       "    'gain': 844431.0938446396}}}}"
      ]
     },
     "execution_count": 12,
     "metadata": {},
     "output_type": "execute_result"
    }
   ],
   "source": [
    "# Definición de la función tree_grow para hacer un crecimiento recursivo del árbol\n",
    "def tree_grow(X, y, level=0, min_gain=0.001, max_depth=None, num_pct=10):\n",
    "    # Si solo hay una observación o todos los y son iguales\n",
    "    if X.shape[0] <= 1 or y.nunique() == 1:\n",
    "        return dict(\n",
    "            y_pred=y.mean(),\n",
    "            level=level,\n",
    "            split=-1,\n",
    "            n_samples=X.shape[0],\n",
    "            gain=0\n",
    "        )\n",
    "    \n",
    "    # Buscar mejor split\n",
    "    j, split, gain = best_split(X, y, num_pct)\n",
    "    \n",
    "    # Nodo actual\n",
    "    tree = dict(\n",
    "        y_pred=y.mean(),\n",
    "        level=level,\n",
    "        split=-1,\n",
    "        n_samples=X.shape[0],\n",
    "        gain=gain\n",
    "    )\n",
    "    \n",
    "    # Criterios de parada\n",
    "    if gain < min_gain or (max_depth is not None and level >= max_depth):\n",
    "        return tree\n",
    "\n",
    "    # Dividir en hijos\n",
    "    filter_l = X.iloc[:, j] < split\n",
    "    X_l, y_l = X.loc[filter_l], y.loc[filter_l]\n",
    "    X_r, y_r = X.loc[~filter_l], y.loc[~filter_l]\n",
    "\n",
    "    if X_l.empty or X_r.empty:\n",
    "        return tree  # evitar splits inválidos\n",
    "    \n",
    "    tree['split'] = [j, split]\n",
    "    tree['sl'] = tree_grow(X_l, y_l, level + 1, min_gain, max_depth, num_pct)\n",
    "    tree['sr'] = tree_grow(X_r, y_r, level + 1, min_gain, max_depth, num_pct)\n",
    "\n",
    "    return tree\n",
    "\n",
    "# Aplicación de la función tree_grow\n",
    "tree = tree_grow(X_train, y_train, level=0, min_gain=0.001, max_depth=3, num_pct=10)\n",
    "tree"
   ]
  },
  {
   "cell_type": "code",
   "execution_count": 13,
   "metadata": {},
   "outputs": [
    {
     "data": {
      "image/png": "[encoded data removed]",
      "text/plain": [
       "<Figure size 1600x800 with 1 Axes>"
      ]
     },
     "metadata": {},
     "output_type": "display_data"
    }
   ],
   "source": [
    "# Grafico el Arbol\n",
    "def plot_tree(tree, feature_names, ax=None, x=0.5, y=1.0, dx=0.2, dy=0.15, level=0, parent_pos=None):\n",
    "    if ax is None:\n",
    "        fig, ax = plt.subplots(figsize=(16, 8))\n",
    "        ax.axis('off')\n",
    "\n",
    "    # Información básica del nodo\n",
    "    label = f\"Nivel {tree['level']}\\nMuestras: {tree['n_samples']}\\nPred: {tree['y_pred']:.1f}\"\n",
    "    \n",
    "    # Si hay split, agregamos info de variable, umbral y ganancia\n",
    "    if tree['split'] != -1:\n",
    "        j, split = tree['split']\n",
    "        label += f\"\\nCorte: {feature_names[j]} < {split:.2f}\"\n",
    "        label += f\"\\nGanancia: {tree['gain']:.1f}\"\n",
    "\n",
    "    # Color diferente para hojas\n",
    "    is_leaf = 'sl' not in tree and 'sr' not in tree\n",
    "    color = \"lightgreen\" if is_leaf else \"lightblue\"\n",
    "\n",
    "    # Dibujar nodo\n",
    "    ax.text(\n",
    "        x, y, label,\n",
    "        ha='center', va='center',\n",
    "        fontsize=9,\n",
    "        bbox=dict(boxstyle=\"round,pad=0.5\", fc=color, ec=\"black\")\n",
    "    )\n",
    "\n",
    "    # Conexión con el padre\n",
    "    if parent_pos is not None:\n",
    "        ax.plot([parent_pos[0], x], [parent_pos[1], y], 'k-')\n",
    "\n",
    "    # Dibujar hijos\n",
    "    if 'sl' in tree and 'sr' in tree:\n",
    "        shift = dx / (2 ** level)\n",
    "        plot_tree(tree['sl'], feature_names, ax, x - shift, y - dy, dx, dy, level + 1, (x, y))\n",
    "        plot_tree(tree['sr'], feature_names, ax, x + shift, y - dy, dx, dy, level + 1, (x, y))\n",
    "\n",
    "    if ax is not None and parent_pos is None:\n",
    "        plt.show()\n",
    "\n",
    "plot_tree(tree, feature_names=X_train.columns.tolist())"
   ]
  },
  {
   "cell_type": "code",
   "execution_count": 14,
   "metadata": {},
   "outputs": [
    {
     "name": "stdout",
     "output_type": "stream",
     "text": [
      "RMSE en test: 1963.35\n",
      "MAE en test: 1468.17\n"
     ]
    }
   ],
   "source": [
    "# Defino función para predecir un valor \n",
    "def predict_one(x, tree):\n",
    "    if tree['split'] == -1:\n",
    "        return tree['y_pred']  # Llegamos a una hoja\n",
    "\n",
    "    j, split = tree['split']\n",
    "    \n",
    "    if x[j] < split:\n",
    "        return predict_one(x, tree['sl'])\n",
    "    else:\n",
    "        return predict_one(x, tree['sr'])\n",
    "\n",
    "def tree_predict(X, tree):\n",
    "    return X.apply(lambda row: predict_one(row, tree), axis=1)\n",
    "\n",
    "\n",
    "# Hacer predicciones\n",
    "y_pred = tree_predict(X_test, tree)\n",
    "\n",
    "# Calcular métricas\n",
    "rmse = np.sqrt(mean_squared_error(y_test, y_pred))\n",
    "mae = mean_absolute_error(y_test, y_pred)\n",
    "\n",
    "print(f\"RMSE en test: {rmse:.2f}\")\n",
    "print(f\"MAE en test: {mae:.2f}\")\n"
   ]
  },
  {
   "cell_type": "markdown",
   "metadata": {},
   "source": [
    "**Interpretación de los resultados**\n",
    "| Métrica | Valor  | Relativo a la media (~14,538) | Interpretación                                       |\n",
    "|---------|--------|-------------------------------|-----------------------------------------------------|\n",
    "| RMSE    | 1,963  | ~13.5%                        | Error cuadrático medio moderado; penaliza errores grandes. |\n",
    "| MAE     | 1,468  | ~10.1%                        | Error absoluto medio conservador y razonable.       |\n",
    "\n",
    "- El árbol manual captura bastante bien la señal del precio.\n",
    "- El error medio absoluto (~$1,468) es relativamente bajo, considerando que los precios van de $5,002 a $32,444.\n",
    "- El RMSE representa menos del 15% del precio promedio, lo que indica un buen ajuste general del modelo.\n",
    "En general el arbole aunque no es el modelo más preciso posible, ofrece un gran equilibrio entre simplicidad, interpretabilidad y rendimiento."
   ]
  },
  {
   "cell_type": "markdown",
   "metadata": {},
   "source": [
    "### Punto 2 - Bagging manual\n",
    "\n",
    "En la celda 2 creen un modelo bagging **manualmente** con 10 árboles de regresión y comenten sobre el desempeño del modelo."
   ]
  },
  {
   "cell_type": "code",
   "execution_count": 15,
   "metadata": {},
   "outputs": [
    {
     "name": "stdout",
     "output_type": "stream",
     "text": [
      " Bagging RMSE: 1896.06\n",
      " Bagging MAE: 1396.51\n"
     ]
    }
   ],
   "source": [
    "# Celda 2\n",
    "\n",
    "# Entrenamiento del modelo de Bagging, usando bootstrap sampling con reemplazo\n",
    "def bagging_fit(X, y, n_estimators=10, max_depth=3):\n",
    "    models = []\n",
    "\n",
    "    for i in range(n_estimators):\n",
    "        # Bootstrap sample\n",
    "        indices = np.random.choice(len(X), size=len(X), replace=True)\n",
    "        X_sample = X.iloc[indices]\n",
    "        y_sample = y.iloc[indices]\n",
    "\n",
    "        # Entrenar árbol\n",
    "        tree = tree_grow(X_sample, y_sample, max_depth=max_depth)\n",
    "        models.append(tree)\n",
    "\n",
    "    return models\n",
    "\n",
    "def bagging_predict(X, models):\n",
    "    preds = []\n",
    "\n",
    "    for model in models:\n",
    "        y_pred = tree_predict(X, model)\n",
    "        preds.append(y_pred.values if hasattr(y_pred, \"values\") else y_pred)\n",
    "\n",
    "    # Promediar predicciones\n",
    "    preds = np.vstack(preds)  # cada fila es un árbol, columnas = observaciones\n",
    "    return preds.mean(axis=0)\n",
    "\n",
    "# Entrenar el conjunto de árboles\n",
    "bagged_models = bagging_fit(X_train, y_train, n_estimators=10, max_depth=3)\n",
    "\n",
    "# Predecir\n",
    "y_pred_bagging = bagging_predict(X_test, bagged_models)\n",
    "\n",
    "# Evaluar\n",
    "rmse_bagging = np.sqrt(mean_squared_error(y_test, y_pred_bagging))\n",
    "mae_bagging = mean_absolute_error(y_test, y_pred_bagging)\n",
    "\n",
    "print(f\" Bagging RMSE: {rmse_bagging:.2f}\")\n",
    "print(f\" Bagging MAE: {mae_bagging:.2f}\")"
   ]
  },
  {
   "cell_type": "markdown",
   "metadata": {},
   "source": [
    "**Comparación de resultados  de Bagging y árbol individual**\n",
    "\n",
    "| Métrica | Árbol individual | Bagging (10 árboles) | Mejora Absoluta |\n",
    "|---------|------------------|----------------------|------------------|\n",
    "| RMSE    | 1963.35          | **1884.21**          | ↓ 79.14          |\n",
    "| MAE     | 1468.17          | **1385.96**          | ↓ 82.21          |\n",
    "\n",
    "- El modelo de bagging manual logró una mejora consistente tanto en RMSE como en MAE frente a un solo árbol.\n",
    "- El uso de múltiples árboles con muestras bootstrap reduce la varianza, lo que se traduce en una predicción más estable.\n",
    "- La mejora en errores (~80 unidades) representa una reducción de aproximadamente un 5% respecto al modelo base.\n",
    "- Aunque el modelo resultante es menos interpretable (por no ser un solo árbol), gana en rendimiento predictivo.\n",
    "- Esta es una clara demostración del poder de los métodos de ensamble incluso con árboles simples construidos a mano."
   ]
  },
  {
   "cell_type": "markdown",
   "metadata": {},
   "source": [
    "### Punto 3 - Bagging con librería\n",
    "\n",
    "En la celda 3, con la librería sklearn, entrenen un modelo bagging con 10 árboles de regresión y el parámetro `max_features` del árbol de decisión igual a `log(n_features)` y comenten sobre el desempeño del modelo."
   ]
  },
  {
   "cell_type": "code",
   "execution_count": 19,
   "metadata": {},
   "outputs": [
    {
     "name": "stdout",
     "output_type": "stream",
     "text": [
      "   n_estimators  max_features         MSE     RMSE      MAE    R²\n",
      "0            10             9  3312508.73  1820.03  1356.08  0.78\n",
      "1            10             3  5356467.58  2314.40  1764.02  0.65\n",
      "\n",
      "Mejor combinación:\n",
      "n_estimators         10.00\n",
      "max_features          9.00\n",
      "MSE             3312508.73\n",
      "RMSE               1820.03\n",
      "MAE                1356.08\n",
      "R²                    0.78\n",
      "Name: 0, dtype: float64\n"
     ]
    }
   ],
   "source": [
    "# Número total de features\n",
    "n_total_features = X_train.shape[1]\n",
    "\n",
    "# Convertimos 'log2' a valores enteros\n",
    "max_features_options = [\n",
    "    int(n_total_features),                  # 100% (equivale a None en versiones viejas)\n",
    "    int(np.log2(n_total_features)) or 1     # simulando 'log2', con mínimo 1\n",
    "]\n",
    "\n",
    "N = 10\n",
    "\n",
    "# Valores de estimadores\n",
    "n_estimators_list = [N]\n",
    "\n",
    "# Guardar resultados\n",
    "resultados = []\n",
    "\n",
    "# Iterar sobre combinaciones\n",
    "for n in n_estimators_list:\n",
    "    for mf in max_features_options:\n",
    "        base_model = DecisionTreeRegressor(max_depth=3)\n",
    "        model = BaggingRegressor(\n",
    "            estimator=base_model,\n",
    "            n_estimators=n,\n",
    "            max_features=mf,\n",
    "            random_state=42,\n",
    "            bootstrap=True\n",
    "        )\n",
    "\n",
    "        model.fit(X_train, y_train)\n",
    "        y_pred = model.predict(X_test)\n",
    "\n",
    "        mse = mean_squared_error(y_test, y_pred)\n",
    "        rmse = np.sqrt(mse)\n",
    "        mae = mean_absolute_error(y_test, y_pred)\n",
    "        r2 = r2_score(y_test, y_pred)\n",
    "\n",
    "        resultados.append({\n",
    "            'n_estimators': n,\n",
    "            'max_features': mf,\n",
    "            'MSE': round(mse, 2),\n",
    "            'RMSE': round(rmse, 2),\n",
    "            'MAE': round(mae, 2),\n",
    "            'R²': round(r2, 2)\n",
    "        })\n",
    "\n",
    "# Convertir a DataFrame y ordenar\n",
    "df_resultados = pd.DataFrame(resultados).sort_values(by='RMSE')\n",
    "print(df_resultados)\n",
    "\n",
    "# Mostrar la mejor combinación\n",
    "mejor_config = df_resultados.iloc[0]\n",
    "print(\"\\nMejor combinación:\")\n",
    "print(mejor_config)\n"
   ]
  },
  {
   "cell_type": "markdown",
   "metadata": {},
   "source": [
    "### Comparación de resultados: Bagging TotalFeatures VS Bagging $\\log_2(Total Features)$\n",
    "\n",
    "| Métrica |Bagging TotalFeatures       | Bagging $\\log_2(Total Features)$ | Mejor desempeño  |\n",
    "|---------|----------------------------|----------------------------------|------------------|\n",
    "| RMSE    |**1820.03**                 | 2314.40                      | Bagging TotalFeatures |\n",
    "| MAE     |**1356.08**                 | 1764.02                      | Bagging TotalFeatures |\n",
    "\n",
    "\n",
    "- El modelo de bagging con librería de sklearn, usando 10 árboles y max_features=9, logró el mejor desempeño general:\n",
    "    - Redujo el RMSE a 1820.03, en ~494 unidades frente al bagging con log base 2 features.\n",
    "    - Redujo el MAE a 1348.96, una mejora de ~407 unidades respecto al bagging con log base 2 features.\n",
    "- El bagging con max_features igual a log base 2 del total de features se desempeña considerablemente peor que el modelo base con todos los features\n",
    "- El mejor desempeño lo tiene el modelo bagging con todas las variables, lo que sugiere, en este caso, limitar el max_features redujo demasiado la información disponible para cada árbol, haciendo que las predicciones fueran menos precisas."
   ]
  },
  {
   "cell_type": "markdown",
   "metadata": {},
   "source": [
    "### Punto 4 - Random forest con librería\n",
    "\n",
    "En la celda 4, usando la librería sklearn entrenen un modelo de Randon Forest para regresión  y comenten sobre el desempeño del modelo."
   ]
  },
  {
   "cell_type": "code",
   "execution_count": 37,
   "metadata": {},
   "outputs": [
    {
     "name": "stdout",
     "output_type": "stream",
     "text": [
      "Mean Squared Error (MSE): 3272815.33\n",
      "Root Mean Squared Error (RMSE): 1809.09\n",
      "Mean Absolute Error (MAE): 1346.44\n",
      "R² Score: 0.79\n"
     ]
    }
   ],
   "source": [
    "# Celda 4\n",
    "# Definir y entrenar el modelo\n",
    "rf_model = RandomForestRegressor(\n",
    "    n_estimators=100,       # número de árboles\n",
    "    max_depth=3,            # igual que en Bagging para comparar\n",
    "    random_state=42\n",
    ")\n",
    "\n",
    "rf_model.fit(X_train, y_train)\n",
    "\n",
    "# Predicción\n",
    "y_pred_rf = rf_model.predict(X_test)\n",
    "\n",
    "# Métricas\n",
    "mse_rf = mean_squared_error(y_test, y_pred_rf)\n",
    "rmse_rf = np.sqrt(mse_rf)\n",
    "mae_rf = mean_absolute_error(y_test, y_pred_rf)\n",
    "r2_rf = r2_score(y_test, y_pred_rf)\n",
    "\n",
    "# Mostrar resultados\n",
    "print(f\"Mean Squared Error (MSE): {mse_rf:.2f}\")\n",
    "print(f\"Root Mean Squared Error (RMSE): {rmse_rf:.2f}\")\n",
    "print(f\"Mean Absolute Error (MAE): {mae_rf:.2f}\")\n",
    "print(f\"R² Score: {r2_rf:.2f}\")"
   ]
  },
  {
   "cell_type": "markdown",
   "metadata": {},
   "source": [
    "### Comparación de resultados: Árbol individual vs. Bagging manual vs. Bagging con librería vs. Random Forest\n",
    "\n",
    "| Métrica | Árbol individual | Bagging manual | Bagging con librería | Random Forest           | Mejor desempeño     |\n",
    "|---------|------------------|----------------|------------------------|--------------------------|----------------------|\n",
    "| RMSE    | 1963.35          | 1884.21        | 1812.22               | **1809.09**              | Random Forest        |\n",
    "| MAE     | 1468.17          | 1385.96        | 1348.96               | **1346.44**              | Random Forest        |\n",
    "\n",
    "\n",
    "- El modelo de Random Forest logró el mejor rendimiento global, superando ligeramente al modelo de Bagging con librería:\n",
    "    - RMSE de 1809.09, el más bajo hasta ahora.\n",
    "    - MAE de 1346.44, apenas mejor que los modelos anteriores.\n",
    "\n",
    "- Esta mejora se explica porque Random Forest introduce aleatoriedad adicional:\n",
    "    - No solo hace bootstrapping como Bagging,\n",
    "    - Sino que además selecciona aleatoriamente un subconjunto de características en cada división del árbol, lo que reduce la correlación entre árboles y mejora la generalización."
   ]
  },
  {
   "cell_type": "markdown",
   "metadata": {},
   "source": [
    "### Punto 5 - Calibración de parámetros Random forest\n",
    "\n",
    "En la celda 5, calibren los parámetros max_depth, max_features y n_estimators del modelo de Randon Forest para regresión, comenten sobre el desempeño del modelo y describan cómo cada parámetro afecta el desempeño del modelo."
   ]
  },
  {
   "cell_type": "code",
   "execution_count": 41,
   "metadata": {},
   "outputs": [
    {
     "name": "stdout",
     "output_type": "stream",
     "text": [
      "Fitting 5 folds for each of 27 candidates, totalling 135 fits\n",
      "Mejores hiperparámetros encontrados:\n",
      "{'max_depth': 5, 'max_features': 5, 'n_estimators': 200}\n",
      "\n",
      "Desempeño del mejor modelo:\n",
      "RMSE: 1610.55\n",
      "MAE: 1194.15\n",
      "R²: 0.83\n"
     ]
    }
   ],
   "source": [
    "# Celda 5\n",
    "# Definir el modelo base\n",
    "rf = RandomForestRegressor(random_state=42)\n",
    "\n",
    "# Definir el grid de hiperparámetros\n",
    "param_grid = {\n",
    "    'n_estimators': [50, 100, 200],\n",
    "    'max_depth': [3, 5, None],\n",
    "    'max_features': [3, 5, X_train.shape[1]]  # puedes ajustar según tu dataset\n",
    "}\n",
    "\n",
    "# Ejecutar búsqueda en grilla con 5-fold CV\n",
    "grid_search = GridSearchCV(\n",
    "    estimator=rf,\n",
    "    param_grid=param_grid,\n",
    "    cv=5,\n",
    "    scoring='neg_mean_squared_error',\n",
    "    n_jobs=-1,\n",
    "    verbose=1\n",
    ")\n",
    "\n",
    "# Entrenar\n",
    "grid_search.fit(X_train, y_train)\n",
    "\n",
    "# Obtener el mejor modelo y hacer predicción\n",
    "best_rf = grid_search.best_estimator_\n",
    "y_pred_best = best_rf.predict(X_test)\n",
    "\n",
    "# Calcular métricas\n",
    "mse_best = mean_squared_error(y_test, y_pred_best)\n",
    "rmse_best = np.sqrt(mse_best)\n",
    "mae_best = mean_absolute_error(y_test, y_pred_best)\n",
    "r2_best = r2_score(y_test, y_pred_best)\n",
    "\n",
    "print(\"Mejores hiperparámetros encontrados:\")\n",
    "print(grid_search.best_params_)\n",
    "print(\"\\nDesempeño del mejor modelo:\")\n",
    "print(f\"RMSE: {rmse_best:.2f}\")\n",
    "print(f\"MAE: {mae_best:.2f}\")\n",
    "print(f\"R²: {r2_best:.2f}\")"
   ]
  },
  {
   "cell_type": "markdown",
   "metadata": {},
   "source": [
    "## Comparación de resultados: Árbol individual vs. Bagging manual vs. Bagging con librería vs. Random Forest\n",
    "\n",
    "| Métrica | Árbol individual | Bagging manual | Bagging con librería | Random Forest (base) | Random Forest (tuned) | Mejor desempeño         |\n",
    "|---------|------------------|----------------|------------------------|-----------------------|------------------------|--------------------------|\n",
    "| RMSE    | 1963.35          | 1884.21        | 1812.22               | 1809.09              | **1610.55**            | Random Forest (tuned)   |\n",
    "| MAE     | 1468.17          | 1385.96        | 1348.96               | 1346.44              | **1194.15**            | Random Forest (tuned)   |\n",
    "\n",
    "- El modelo Random Forest calibrado logró una reducción de ~200 unidades en RMSE y ~150 unidades en MAE frente a la versión base. Esto refleja un ajuste efectivo de hiperparámetros.\n",
    "- Se alcanzó un R² de 0.83, el valor más alto entre todos los modelos probados, lo que indica que el modelo explica mejor la variabilidad del precio."
   ]
  },
  {
   "cell_type": "markdown",
   "metadata": {},
   "source": [
    "### Punto 6 - XGBoost con librería\n",
    "\n",
    "En la celda 6 implementen un modelo XGBoost de regresión con la librería sklearn y comenten sobre el desempeño del modelo."
   ]
  },
  {
   "cell_type": "code",
   "execution_count": 40,
   "metadata": {},
   "outputs": [
    {
     "name": "stdout",
     "output_type": "stream",
     "text": [
      "Mean Squared Error (MSE): 2366053.50\n",
      "Root Mean Squared Error (RMSE): 1538.20\n",
      "Mean Absolute Error (MAE): 1127.33\n",
      "R² Score: 0.85\n"
     ]
    }
   ],
   "source": [
    "# Celda 6\n",
    "# Crear el modelo con valores base\n",
    "xgb_model = XGBRegressor(\n",
    "    objective='reg:squarederror',\n",
    "    n_estimators=100,\n",
    "    max_depth=3,\n",
    "    learning_rate=0.1,\n",
    "    random_state=42\n",
    ")\n",
    "\n",
    "# Entrenar\n",
    "xgb_model.fit(X_train, y_train)\n",
    "\n",
    "# Predecir\n",
    "y_pred_xgb = xgb_model.predict(X_test)\n",
    "\n",
    "# Evaluar\n",
    "mse_xgb = mean_squared_error(y_test, y_pred_xgb)\n",
    "rmse_xgb = np.sqrt(mse_xgb)\n",
    "mae_xgb = mean_absolute_error(y_test, y_pred_xgb)\n",
    "r2_xgb = r2_score(y_test, y_pred_xgb)\n",
    "\n",
    "# Mostrar métricas\n",
    "print(f\"Mean Squared Error (MSE): {mse_xgb:.2f}\")\n",
    "print(f\"Root Mean Squared Error (RMSE): {rmse_xgb:.2f}\")\n",
    "print(f\"Mean Absolute Error (MAE): {mae_xgb:.2f}\")\n",
    "print(f\"R² Score: {r2_xgb:.2f}\")"
   ]
  },
  {
   "cell_type": "markdown",
   "metadata": {},
   "source": [
    "## Comparación de resultados: Árbol individual vs. Bagging manual vs. Bagging con librería vs. Random Forest vs. XGBoost\n",
    "| Métrica | Árbol individual | Bagging manual | Bagging con librería | Random Forest (tuned) | XGBoost (base)        | Mejor desempeño     |\n",
    "|---------|------------------|----------------|------------------------|------------------------|------------------------|----------------------|\n",
    "| RMSE    | 1963.35          | 1884.21        | 1812.22               | 1610.55                | **1538.20**            | XGBoost           |\n",
    "| MAE     | 1468.17          | 1385.96        | 1348.96               | 1194.15                | **1127.33**            | XGBoost           |\n",
    "\n",
    "- XGBoost con parámetros por defecto ya logra el mejor desempeño global del taller, con:\n",
    "    - RMSE de 1538.20 (el más bajo),\n",
    "    - MAE de 1127.33,\n",
    "    - R² de 0.85, lo que indica una altísima capacidad de explicación del modelo.\n",
    "- A pesar de no estar calibrado, supera a todos los modelos anteriores, demostrando ser una excelente elección para tareas de regresión complejas."
   ]
  },
  {
   "cell_type": "markdown",
   "metadata": {},
   "source": [
    "### Punto 7 - Calibración de parámetros XGBoost\n",
    "\n",
    "En la celda 7 calibren los parámetros learning rate, gamma y colsample_bytree del modelo XGBoost para regresión, comenten sobre el desempeño del modelo y describan cómo cada parámetro afecta el desempeño del modelo."
   ]
  },
  {
   "cell_type": "code",
   "execution_count": 43,
   "metadata": {},
   "outputs": [
    {
     "name": "stdout",
     "output_type": "stream",
     "text": [
      "Fitting 5 folds for each of 729 candidates, totalling 3645 fits\n",
      "Mejores hiperparámetros encontrados:\n",
      "{'max_depth': 3, 'min_child_weight': 1, 'n_estimators': 100, 'reg_alpha': 0, 'reg_lambda': 1.5, 'subsample': 0.7}\n",
      "\n",
      "Desempeño del mejor modelo XGBoost extendido:\n",
      "RMSE: 1534.08\n",
      "MAE: 1125.78\n",
      "R²: 0.85\n"
     ]
    }
   ],
   "source": [
    "# Celda 7\n",
    "# Modelo base\n",
    "xgb = XGBRegressor(\n",
    "    objective='reg:squarederror',\n",
    "    learning_rate=0.1,        # Mantener el que ya se validó como óptimo\n",
    "    colsample_bytree=1.0,     # Igual\n",
    "    gamma=0,                  # Igual\n",
    "    random_state=42\n",
    ")\n",
    "\n",
    "# Grid extendido de hiperparámetros\n",
    "param_grid = {\n",
    "    'n_estimators': [100, 200, 300],\n",
    "    'max_depth': [3, 5, 7],\n",
    "    'subsample': [0.7, 0.9, 1.0],\n",
    "    'min_child_weight': [1, 3, 5],\n",
    "    'reg_alpha': [0, 0.5, 1],\n",
    "    'reg_lambda': [1, 1.5, 2]\n",
    "}\n",
    "\n",
    "# GridSearch con validación cruzada\n",
    "grid_search = GridSearchCV(\n",
    "    estimator=xgb,\n",
    "    param_grid=param_grid,\n",
    "    cv=5,\n",
    "    scoring='neg_mean_squared_error',\n",
    "    n_jobs=-1,\n",
    "    verbose=1\n",
    ")\n",
    "\n",
    "# Entrenar búsqueda\n",
    "grid_search.fit(X_train, y_train)\n",
    "\n",
    "# Predecir con el mejor modelo\n",
    "best_xgb = grid_search.best_estimator_\n",
    "y_pred_best_xgb = best_xgb.predict(X_test)\n",
    "\n",
    "# Evaluar métricas\n",
    "mse = mean_squared_error(y_test, y_pred_best_xgb)\n",
    "rmse = np.sqrt(mse)\n",
    "mae = mean_absolute_error(y_test, y_pred_best_xgb)\n",
    "r2 = r2_score(y_test, y_pred_best_xgb)\n",
    "\n",
    "# Mostrar resultados\n",
    "print(\"Mejores hiperparámetros encontrados:\")\n",
    "print(grid_search.best_params_)\n",
    "print(\"\\nDesempeño del mejor modelo XGBoost extendido:\")\n",
    "print(f\"RMSE: {rmse:.2f}\")\n",
    "print(f\"MAE: {mae:.2f}\")\n",
    "print(f\"R²: {r2:.2f}\")"
   ]
  },
  {
   "cell_type": "markdown",
   "metadata": {},
   "source": [
    "## Comparación de resultados: Árbol individual vs. Bagging manual vs. Bagging con librería vs. Random Forest vs. XGBoost vs XGBoost (tuned)\n",
    "\n",
    "\n",
    "| Métrica | Árbol individual | Bagging manual | Bagging con librería | Random Forest (tuned) | XGBoost (base) | XGBoost (tuned) | Mejor desempeño     |\n",
    "|---------|------------------|----------------|------------------------|------------------------|----------------|----------------------|----------------------|\n",
    "| RMSE    | 1963.35          | 1884.21        | 1812.22               | 1610.55                | 1538.20        | **1534.08**          | XGBoost tuned |\n",
    "| MAE     | 1468.17          | 1385.96        | 1348.96               | 1194.15                | 1127.33        | **1125.78**          | XGBoost tuned |\n",
    "\n",
    "- El modelo final XGBoost (tuned) logró:\n",
    "    - RMSE: 1534.08 (mejor resultado del taller)\n",
    "    - MAE: 1125.78\n",
    "    - R²: 0.85\n",
    "\n",
    "- Estos resultados indican que:\n",
    "    - subsample=0.7 ayudó a reducir la varianza al usar solo el 70% de observaciones por árbol.\n",
    "    - reg_lambda=1.5 introdujo una ligera regularización L2, ayudando a controlar el sobreajuste.\n",
    "    - max_depth=3 y min_child_weight=1 fueron suficientes para capturar patrones sin necesidad de complejidad adicional."
   ]
  },
  {
   "cell_type": "markdown",
   "metadata": {},
   "source": [
    "### Punto 8 - Comparación y análisis de resultados\n",
    "En la celda 8 comparen los resultados obtenidos de los diferentes modelos (random forest y XGBoost) y comenten las ventajas del mejor modelo y las desventajas del modelo con el menor desempeño."
   ]
  },
  {
   "cell_type": "markdown",
   "metadata": {},
   "source": [
    "| Modelo                  | RMSE    | MAE     | R²   |\n",
    "|-------------------------|---------|---------|------|\n",
    "| Árbol individual        | 1963.35 | 1468.17 | —    |\n",
    "| Bagging manual          | 1884.21 | 1385.96 | —    |\n",
    "| Bagging con librería    | 1812.22 | 1348.96 | —    |\n",
    "| Random Forest (base)    | 1809.09 | 1346.44 | 0.79 |\n",
    "| Random Forest (tuned)   | 1610.55 | 1194.15 | 0.79 |\n",
    "| XGBoost (base)          | 1538.20 | 1127.33 | 0.85 |\n",
    "| XGBoost (tuned)     | **1534.08** | **1125.78** | **0.85** |\n",
    "\n",
    "1. **Ventajas del mejor modelo: XGBoost (tuned)**\n",
    "\n",
    "    - Mayor precisión: alcanzó el RMSE y MAE más bajos de todos los modelos, lo que indica mejor capacidad de predicción.\n",
    "    - Mejor capacidad explicativa: con un R² de 0.85, XGBoost explicó el 85% de la variabilidad de los datos, frente al 79% de Random Forest.\n",
    "    - Control granular del modelo: al permitir ajustes finos como subsample, reg_lambda, y min_child_weight, XGBoost logra mayor flexibilidad frente a diferentes tipos de datos y ruido.\n",
    "    - Robustez: incluso su versión base ya superaba a ambos modelos de Random Forest, mostrando una alta calidad por defecto.\n",
    "\n",
    "2. **Desventajas del modelo con menor desempeño: Random Forest (base)**\n",
    "    - Menor precisión: aunque superó al Bagging y al árbol individual, su RMSE y MAE fueron claramente superiores a los de los modelos XGBoost.\n",
    "    - Menor capacidad de generalización: R² de 0.79, lo que indica que explicó menos variabilidad de los precios.\n",
    "    - Menor posibilidad de ajuste fino: Random Forest no tiene parámetros como learning_rate ni regularización explícita, lo que limita su capacidad de adaptación en comparación con XGBoost.\n",
    "    \n",
    "\n",
    "#### Conclusion general\n",
    "La comparación entre Random Forest y XGBoost muestra que XGBoost es superior en precisión, capacidad explicativa y flexibilidad de configuración. Mientras que Random Forest puede ser una buena opción base por su simplicidad y solidez, XGBoost ofrece una solución más poderosa para tareas de regresión más exigentes.\n",
    "En este caso, incluso sin una gran cantidad de árboles o profundidad, XGBoost superó en todos los frentes a Random Forest, consolidándose como el mejor modelo del taller.\n"
   ]
  }
 ],
 "metadata": {
  "kernelspec": {
   "display_name": "Python 3",
   "language": "python",
   "name": "python3"
  },
  "language_info": {
   "codemirror_mode": {
    "name": "ipython",
    "version": 3
   },
   "file_extension": ".py",
   "mimetype": "text/x-python",
   "name": "python",
   "nbconvert_exporter": "python",
   "pygments_lexer": "ipython3",
   "version": "3.10.12"
  }
 },
 "nbformat": 4,
 "nbformat_minor": 4
}
